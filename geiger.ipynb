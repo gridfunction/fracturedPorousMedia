{
 "cells": [
  {
   "cell_type": "code",
   "execution_count": 1,
   "metadata": {},
   "outputs": [],
   "source": [
    "# Basic NGSolve things\n",
    "from netgen.geom2d import SplineGeometry\n",
    "from ngsolve import *\n",
    "\n",
    "# ngsxfem and the mlset convenience layer \n",
    "from xfem import *\n",
    "from xfem.mlset import *\n",
    "\n",
    "import matplotlib.pyplot as plt\n",
    "import numpy as np"
   ]
  },
  {
   "cell_type": "code",
   "execution_count": 2,
   "metadata": {},
   "outputs": [
    {
     "data": {
      "application/vnd.jupyter.widget-view+json": {
       "model_id": "2f9479746b584b47b9b0a353c4b29608",
       "version_major": 2,
       "version_minor": 0
      },
      "text/plain": [
       "WebGuiWidget(value={'ngsolve_version': '6.2.2103-72-g646b7caba', 'mesh_dim': 2, 'order2d': 2, 'order3d': 2, 'd…"
      ]
     },
     "metadata": {},
     "output_type": "display_data"
    },
    {
     "data": {
      "text/plain": [
       "BaseWebGuiScene"
      ]
     },
     "execution_count": 2,
     "metadata": {},
     "output_type": "execute_result"
    }
   ],
   "source": [
    "# Complex\n",
    "from read_gmsh import ReadGmsh\n",
    "mesh = ReadGmsh(\"mesh/geiger.msh\")\n",
    "from ngsolve import Mesh\n",
    "mesh = Mesh(mesh)\n",
    "\n",
    "eps = 1e-6\n",
    "for e in mesh.Elements(BND):\n",
    "    p0 = mesh[e.vertices[0]].point\n",
    "    p1 = mesh[e.vertices[1]].point\n",
    "    if abs(p0[0]-0)<eps and abs(p1[0]-0)< eps:\n",
    "        mesh.ngmesh.SetBCName(e.index, \"left\")\n",
    "    elif abs(p0[0]-1)<eps and abs(p1[0]-1)< eps:\n",
    "        mesh.ngmesh.SetBCName(e.index, \"right\")\n",
    "    elif abs(p0[1]-1)<eps and abs(p1[1]-1)< eps:\n",
    "        mesh.ngmesh.SetBCName(e.index, \"top\")\n",
    "    elif abs(p0[1]-0)<eps and abs(p1[1]-0)< eps:\n",
    "        mesh.ngmesh.SetBCName(e.index, \"bottom\")\n",
    "    else:\n",
    "        mesh.ngmesh.SetBCName(e.index, \"frac\")\n",
    "\n",
    "gfu = GridFunction(H1(mesh))\n",
    "gfu.Set(1,definedon=mesh.Boundaries(\"frac\"))\n",
    "Draw(gfu, mesh)"
   ]
  },
  {
   "cell_type": "markdown",
   "metadata": {},
   "source": [
    "### 1) Fracture"
   ]
  },
  {
   "cell_type": "code",
   "execution_count": 3,
   "metadata": {
    "scrolled": false
   },
   "outputs": [
    {
     "data": {
      "application/vnd.jupyter.widget-view+json": {
       "model_id": "bbb0e2842e66495fb36ee633fabb456d",
       "version_major": 2,
       "version_minor": 0
      },
      "text/plain": [
       "WebGuiWidget(value={'ngsolve_version': '6.2.2103-72-g646b7caba', 'mesh_dim': 2, 'order2d': 2, 'order3d': 2, 'd…"
      ]
     },
     "metadata": {},
     "output_type": "display_data"
    },
    {
     "data": {
      "application/vnd.jupyter.widget-view+json": {
       "model_id": "ebb5840d91a94207a24e92eecde7a38b",
       "version_major": 2,
       "version_minor": 0
      },
      "text/plain": [
       "WebGuiWidget(value={'ngsolve_version': '6.2.2103-72-g646b7caba', 'mesh_dim': 2, 'order2d': 2, 'order3d': 2, 'd…"
      ]
     },
     "metadata": {},
     "output_type": "display_data"
    },
    {
     "name": "stdout",
     "output_type": "stream",
     "text": [
      "Total:  7703  Global:  2311 V:  4044 W:  1348 M:  2041 Vf:  182 Mf:  88\n"
     ]
    },
    {
     "data": {
      "image/png": "[encoded data removed]",
      "text/plain": [
       "<Figure size 864x288 with 2 Axes>"
      ]
     },
     "metadata": {
      "needs_background": "light"
     },
     "output_type": "display_data"
    }
   ],
   "source": [
    "# each fracture is represented by a mlset with 2 level set functions (line+circle)\n",
    "nfs = 6\n",
    "level_sets_p1 = tuple(tuple(GridFunction(H1(mesh, order=1)) for i in range(2)) for j in range(nfs))\n",
    "frac0 = np.array([[1, 0, 0.5, 1, 0.5], \n",
    "                  [2, 0.5, 0.75, 1, 0.75],\n",
    "                  [3, 0.5, 0.625, 0.75, 0.625],\n",
    "                  [4, 0.5, 0, 0.5, 1],\n",
    "                  [5, 0.75, 0.5, 0.75, 1],\n",
    "                  [6, 0.625, 0.5, 0.625, 0.75]\n",
    "                 ])\n",
    "# interface indicator/interface elements/tangential directions\n",
    "lset_ifs = [None for j in range(nfs)]\n",
    "lset_elems = [None for j in range(nfs)]\n",
    "ts = [None for j in range(nfs)]\n",
    "ns = [None for j in range(nfs)]\n",
    "\n",
    "# all fractures\n",
    "for i, lset_p1 in enumerate(level_sets_p1):\n",
    "    x0, y0, x1, y1 = frac0[i][1], frac0[i][2],frac0[i][3],frac0[i][4]\n",
    "    if x0==x1:\n",
    "        l1 = x-x0\n",
    "    elif y0==y1:\n",
    "        l1 = y-y0\n",
    "    else:\n",
    "        l1 = (x-x0)/(x1-x0)-(y-y0)/(y1-y0)\n",
    "    len1 = sqrt((x1-x0)**2+(y1-y0)**2)\n",
    "    xmid, ymid = 0.5*(x0+x1), 0.5*(y0+y1)\n",
    "    r1 = sqrt((x-xmid)**2+(y-ymid)**2)-0.5*len1\n",
    "    InterpolateToP1(l1, lset_p1[0]) # line segment\n",
    "    InterpolateToP1(r1, lset_p1[1]) # circ\n",
    "    mlci = MultiLevelsetCutInfo(mesh, lset_p1)\n",
    "    frac = DomainTypeArray((IF, NEG))\n",
    "    lset_ifs[i] = {\"levelset\": lset_p1, \"domain_type\": frac, \"subdivlvl\" : 0}\n",
    "    lset_elems[i] = mlci.GetElementsWithContribution(frac)\n",
    "    \n",
    "    n1 = 1.0/grad(lset_p1[0]).Norm() * grad(lset_p1[0])\n",
    "    ts[i] = CoefficientFunction((-n1[1], n1[0]))\n",
    "    ns[i] = n1\n",
    "    if i ==0:\n",
    "        bitarray = BitArrayCF(lset_elems[i])\n",
    "    else:\n",
    "        bitarray += BitArrayCF(lset_elems[i])\n",
    "\n",
    "# draw the interface elements for the fracture\n",
    "# Draw(bitarray, mesh, max=1)\n",
    "\n",
    "# hybrid-mixed solver: GOOD\n",
    "order = 0\n",
    "frac = \"frac\"\n",
    "V = HDiv(mesh, order=order, RT=True, discontinuous=True)\n",
    "W = L2(mesh, order=order)\n",
    "M = FacetFESpace(mesh, order=order, dirichlet=\"right\")\n",
    "Vf = Compress(SurfaceL2(mesh, order=order+1, definedon=mesh.Boundaries(frac)))\n",
    "Mf = Compress(H1(mesh, order=1, definedon=mesh.Boundaries(frac)))\n",
    "\n",
    "fes = V*W*M*Vf*Mf\n",
    "(u, p, phat, uf, pbar), (v, q, qhat, vf, qbar) = fes.TnT()\n",
    "\n",
    "# hackers\n",
    "gfL = GridFunction(H1(mesh))\n",
    "gfR = GridFunction(H1(mesh))\n",
    "gfL.Set(1, definedon=mesh.Boundaries(\"left\"))\n",
    "gfR.Set(1, definedon=mesh.Boundaries(\"right\"))\n",
    "\n",
    "eps = 1e-4\n",
    "K0, K1, K2 = 1, 1e4, 1e-4\n",
    "\n",
    "condense=True\n",
    "a = BilinearForm(fes, condense=condense)\n",
    "h = specialcf.mesh_size\n",
    "n = specialcf.normal(2)\n",
    "t = specialcf.tangential(2)\n",
    "# subdomain 1\n",
    "a += (-1/K0*u*v+p*div(v)+q*div(u))*dx\n",
    "a += (-1/eps/K1*uf.Trace()*vf.Trace()+phat.Trace()*grad(vf).Trace()*t+qhat.Trace()*grad(uf).Trace()*t\n",
    "     )*ds(\"frac\")\n",
    "a += (-v*n*phat-u*n*qhat)*dx(element_boundary=True)\n",
    "gfn = GridFunction(Compress(SurfaceL2(mesh, order=1, definedon=mesh.Boundaries(frac))))\n",
    "count = 0\n",
    "for e in mesh.Elements(BND):\n",
    "    if e.mat==\"frac\":\n",
    "        if e.vertices[0].nr > e.vertices[1].nr:\n",
    "            gfn.vec[2*count+1] = -1\n",
    "        else:\n",
    "            gfn.vec[2*count+1] = 1 \n",
    "        count += 1    \n",
    "a += -(pbar*vf*gfn+uf*qbar*gfn)*ds(element_boundary=True, definedon=\"frac\")\n",
    "# dirichlet bc hack for Right\n",
    "a += 1e8*gfR*(pbar*qbar)*ds(element_boundary=True, definedon=\"frac\")\n",
    "\n",
    "\n",
    "########### TODO\n",
    "\n",
    "f = LinearForm(fes)\n",
    "f += 1e8*(gfR)*qbar*ds(element_boundary=True, definedon=\"frac\")\n",
    "# f += gfL*gfn*qbar*ds(element_boundary=True, definedon=\"frac\")\n",
    "f += (qhat.Trace())*ds(definedon=\"left\")\n",
    "\n",
    "gfu = GridFunction(fes)\n",
    "\n",
    "a.Assemble()\n",
    "f.Assemble()\n",
    "\n",
    "# top dirichlet data\n",
    "gfu.components[2].Set(1, definedon=mesh.Boundaries(\"right\"))\n",
    "\n",
    "f.vec.data -= a.mat*gfu.vec\n",
    "if condense==True:\n",
    "    f.vec.data += a.harmonic_extension_trans * f.vec\n",
    "gfu.vec.data += a.mat.Inverse(fes.FreeDofs(condense), inverse=\"umfpack\")*f.vec\n",
    "if condense==True:\n",
    "    gfu.vec.data += a.harmonic_extension * gfu.vec \n",
    "    gfu.vec.data += a.inner_solve * f.vec\n",
    "\n",
    "# Local postprocessing\n",
    "V2 = L2(mesh, order=1, all_dofs_together=False)\n",
    "ph = GridFunction(V2)\n",
    "\n",
    "a2 = BilinearForm(V2)\n",
    "f2 = LinearForm(V2)\n",
    "\n",
    "p2, q2 = V2.TnT()\n",
    "a2 += grad(p2)*grad(q2)*dx\n",
    "a2.Assemble()\n",
    "f2 += -1/K0*gfu.components[0]*grad(q2)*dx\n",
    "f2.Assemble()\n",
    "\n",
    "V2.FreeDofs()[:mesh.ne]=False\n",
    "ph.vec[:mesh.ne].data=gfu.components[1].vec\n",
    "ph.vec.data += a2.mat.Inverse(V2.FreeDofs())*f2.vec\n",
    "\n",
    "Draw(gfu.components[0], mesh, \"vel\")\n",
    "Draw(ph, mesh, \"soln\")\n",
    "\n",
    "import matplotlib.pyplot as plt\n",
    "\n",
    "plt.figure(figsize=(12,4))\n",
    "plt.subplot(1,2,1)\n",
    "xx = np.linspace(0, 1, 101)\n",
    "pre = np.array([ph(mesh(0.5,xx0)) for xx0 in xx])\n",
    "plt.plot(xx,pre,\"r\")\n",
    "\n",
    "ref = np.loadtxt('data/mfd_geiger_conductive_x_eq_0.5.csv',comments='#',delimiter=',',skiprows=1)\n",
    "plt.plot(ref.T[5], ref.T[0], \"k--\")\n",
    "\n",
    "plt.subplot(1,2,2)\n",
    "pre = np.array([ph(mesh(xx0,0.7)) for xx0 in xx])\n",
    "plt.plot(xx,pre,\"r\")\n",
    "\n",
    "ref = np.loadtxt('data/mfd_geiger_conductive_y_eq_0.7.csv',comments='#',delimiter=',',skiprows=1)\n",
    "plt.plot(ref.T[5], ref.T[0], \"k--\")\n",
    "\n",
    "print(\"Total: \", sum(fes.FreeDofs()), \" Global: \", sum(fes.FreeDofs(True)), \n",
    "     \"V: \", sum(V.FreeDofs()), \"W: \", sum(W.FreeDofs()), \"M: \", sum(M.FreeDofs()), \n",
    "     \"Vf: \", sum(Vf.FreeDofs(True)), \"Mf: \", sum(Mf.FreeDofs(True)))\n"
   ]
  },
  {
   "cell_type": "markdown",
   "metadata": {},
   "source": [
    "### 2) Barrier: hybrid-mixed (non-conforming mesh)"
   ]
  },
  {
   "cell_type": "code",
   "execution_count": 4,
   "metadata": {},
   "outputs": [
    {
     "data": {
      "application/vnd.jupyter.widget-view+json": {
       "model_id": "b4808cebe4a2491abbccc4403cc7a339",
       "version_major": 2,
       "version_minor": 0
      },
      "text/plain": [
       "WebGuiWidget(value={'ngsolve_version': '6.2.2103-72-g646b7caba', 'mesh_dim': 2, 'order2d': 2, 'order3d': 2, 'd…"
      ]
     },
     "metadata": {},
     "output_type": "display_data"
    },
    {
     "name": "stdout",
     "output_type": "stream",
     "text": [
      "Total:  7956  Global:  2188 V:  4326 W:  1442 M:  2188 Vf:  0 Mf:  0 ne:  1442\n"
     ]
    },
    {
     "data": {
      "image/png": "[encoded data removed]",
      "text/plain": [
       "<Figure size 864x288 with 1 Axes>"
      ]
     },
     "metadata": {
      "needs_background": "light"
     },
     "output_type": "display_data"
    }
   ],
   "source": [
    "# Blocking: hybrid-mixed (Worked!!!)\n",
    "nonC = True\n",
    "if nonC==True:\n",
    "    # non-conforming mesh\n",
    "    geo = SplineGeometry()\n",
    "    geo.AddRectangle((0, 0), (1, 1), \n",
    "                     bcs=(\"bottom\", \"right\", \"top\", \"left\"), \n",
    "                    leftdomain=1, rightdomain=0)\n",
    "    mesh = Mesh(geo.GenerateMesh(maxh=0.04))\n",
    "\n",
    "# each fracture is represented by a mlset with 2 level set functions (line+circle)\n",
    "nfs = 6\n",
    "level_sets_p1 = tuple(tuple(GridFunction(H1(mesh, order=1)) for i in range(2)) for j in range(nfs))\n",
    "eps0 = 0\n",
    "frac0 = np.array([[1, 0, 0.5-eps0, 1, 0.5-eps0], \n",
    "                  [2, 0.5, 0.75-eps0, 1, 0.75-eps0],\n",
    "                  [3, 0.5, 0.625-eps0, 0.75, 0.625-eps0],\n",
    "                  [4, 0.5-eps0, 0, 0.5-eps0, 1],\n",
    "                  [5, 0.75-eps0, 0.5, 0.75-eps0, 1],\n",
    "                  [6, 0.625-eps0, 0.5, 0.625-eps0, 0.75]\n",
    "                 ])\n",
    "# interface indicator/interface elements/tangential directions\n",
    "lset_ifs = [None for j in range(nfs)]\n",
    "lset_elems = [None for j in range(nfs)]\n",
    "ts = [None for j in range(nfs)]\n",
    "ns = [None for j in range(nfs)]\n",
    "\n",
    "# all fractures\n",
    "for i, lset_p1 in enumerate(level_sets_p1):\n",
    "    x0, y0, x1, y1 = frac0[i][1], frac0[i][2],frac0[i][3],frac0[i][4]\n",
    "    if x0==x1:\n",
    "        l1 = x-x0\n",
    "    elif y0==y1:\n",
    "        l1 = y-y0\n",
    "    else:\n",
    "        l1 = (x-x0)/(x1-x0)-(y-y0)/(y1-y0)\n",
    "    len1 = sqrt((x1-x0)**2+(y1-y0)**2)\n",
    "    xmid, ymid = 0.5*(x0+x1), 0.5*(y0+y1)\n",
    "    r1 = sqrt((x-xmid)**2+(y-ymid)**2)-0.5*len1\n",
    "    InterpolateToP1(l1, lset_p1[0]) # line segment\n",
    "    InterpolateToP1(r1, lset_p1[1]) # circ\n",
    "    mlci = MultiLevelsetCutInfo(mesh, lset_p1)\n",
    "    frac = DomainTypeArray((IF, NEG))\n",
    "    lset_ifs[i] = {\"levelset\": lset_p1, \"domain_type\": frac, \"subdivlvl\" : 0}\n",
    "    lset_elems[i] = mlci.GetElementsWithContribution(frac)\n",
    "    \n",
    "    n1 = 1.0/grad(lset_p1[0]).Norm() * grad(lset_p1[0])\n",
    "    ts[i] = CoefficientFunction((-n1[1], n1[0]))\n",
    "    ns[i] = n1\n",
    "    if i ==0:\n",
    "        bitarray = BitArrayCF(lset_elems[i])\n",
    "    else:\n",
    "        bitarray += BitArrayCF(lset_elems[i])\n",
    "\n",
    "# mesh.Refine()\n",
    "# hybrid-mixed solver: GOOD\n",
    "order = 0\n",
    "frac = \"frac\"\n",
    "V = HDiv(mesh, order=order, RT=True, discontinuous=True)\n",
    "W = L2(mesh, order=order)\n",
    "M = FacetFESpace(mesh, order=order, dirichlet=\"right\")\n",
    "Vf = Compress(SurfaceL2(mesh, order=order+1, definedon=mesh.Boundaries(frac)))\n",
    "Mf = Compress(H1(mesh, order=1, definedon=mesh.Boundaries(frac)))\n",
    "\n",
    "fes = V*W*M\n",
    "(u, p, phat), (v, q, qhat) = fes.TnT()\n",
    "\n",
    "eps = 1e-4\n",
    "K0, K1, K2 = 1, 1e4, 1e-4\n",
    "\n",
    "condense=True\n",
    "a = BilinearForm(fes, condense=condense)\n",
    "h = specialcf.mesh_size\n",
    "n = specialcf.normal(2)\n",
    "t = specialcf.tangential(2)\n",
    "# subdomain 1\n",
    "a += (1/K0*u*v-p*div(v)-q*div(u))*dx\n",
    "for i in range(nfs):\n",
    "    a += SymbolicBFI(levelset_domain = lset_ifs[i], \n",
    "                 form = eps/K2 * u*ns[i] * v*ns[i],\n",
    "                definedonelements=lset_elems[i])\n",
    "a += (phat*v*n+qhat*u*n)*dx(element_boundary=True)\n",
    "\n",
    "########### TODO\n",
    "\n",
    "f = LinearForm(fes)\n",
    "f += -qhat.Trace()*ds(\"left\")\n",
    "\n",
    "gfu = GridFunction(fes)\n",
    "\n",
    "a.Assemble()\n",
    "f.Assemble()\n",
    "\n",
    "# top dirichlet data\n",
    "gfu.components[2].Set(1, definedon=mesh.Boundaries(\"right\"))\n",
    "\n",
    "f.vec.data -= a.mat*gfu.vec\n",
    "if condense==True:\n",
    "    f.vec.data += a.harmonic_extension_trans * f.vec\n",
    "gfu.vec.data += a.mat.Inverse(fes.FreeDofs(condense), inverse=\"umfpack\")*f.vec\n",
    "if condense==True:\n",
    "    gfu.vec.data += a.harmonic_extension * gfu.vec \n",
    "    gfu.vec.data += a.inner_solve * f.vec\n",
    "\n",
    "# Local postprocessing\n",
    "V2 = L2(mesh, order=1, all_dofs_together=False)\n",
    "ph = GridFunction(V2)\n",
    "\n",
    "a2 = BilinearForm(V2)\n",
    "f2 = LinearForm(V2)\n",
    "\n",
    "p2, q2 = V2.TnT()\n",
    "a2 += grad(p2)*grad(q2)*dx\n",
    "a2.Assemble()\n",
    "f2 += -1/K0*gfu.components[0]*grad(q2)*dx\n",
    "f2.Assemble()\n",
    "\n",
    "V2.FreeDofs()[:mesh.ne]=False\n",
    "ph.vec[:mesh.ne].data=gfu.components[1].vec\n",
    "ph.vec.data += a2.mat.Inverse(V2.FreeDofs())*f2.vec\n",
    "    \n",
    "Draw(ph, mesh, \"soln\")\n",
    "\n",
    "import matplotlib.pyplot as plt\n",
    "\n",
    "plt.figure(figsize=(12,4))\n",
    "plt.subplot(1,2,1)\n",
    "xx = np.linspace(0, 0.9, 101)\n",
    "pre = np.array([ph(mesh(xx0,xx0+0.1)) for xx0 in xx])\n",
    "plt.plot(sqrt(2)*xx,pre,\"r\")\n",
    "\n",
    "ref = np.loadtxt('data/mfd_geiger_blocking_0_0.1_to_0.9_1.csv',comments='#',delimiter=',',skiprows=1)\n",
    "plt.plot(ref.T[5], ref.T[0], \"k--\")\n",
    "\n",
    "print(\"Total: \", sum(fes.FreeDofs()), \" Global: \", sum(fes.FreeDofs(True)), \n",
    "     \"V: \", sum(V.FreeDofs()), \"W: \", sum(W.FreeDofs()), \"M: \", sum(M.FreeDofs()), \n",
    "     \"Vf: \", sum(Vf.FreeDofs(True)), \"Mf: \", sum(Mf.FreeDofs(True)), \"ne: \", mesh.ne)"
   ]
  },
  {
   "cell_type": "code",
   "execution_count": null,
   "metadata": {},
   "outputs": [],
   "source": []
  }
 ],
 "metadata": {
  "kernelspec": {
   "display_name": "Python 3",
   "language": "python",
   "name": "python3"
  },
  "language_info": {
   "codemirror_mode": {
    "name": "ipython",
    "version": 3
   },
   "file_extension": ".py",
   "mimetype": "text/x-python",
   "name": "python",
   "nbconvert_exporter": "python",
   "pygments_lexer": "ipython3",
   "version": "3.8.10"
  }
 },
 "nbformat": 4,
 "nbformat_minor": 4
}
