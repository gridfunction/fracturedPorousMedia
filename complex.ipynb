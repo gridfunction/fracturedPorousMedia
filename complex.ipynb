{
 "cells": [
  {
   "cell_type": "code",
   "execution_count": 1,
   "metadata": {},
   "outputs": [],
   "source": [
    "# Basic NGSolve things\n",
    "from netgen.geom2d import SplineGeometry\n",
    "from ngsolve import *\n",
    "\n",
    "# ngsxfem and the mlset convenience layer \n",
    "from xfem import *\n",
    "from xfem.mlset import *\n",
    "\n",
    "import matplotlib.pyplot as plt\n",
    "import numpy as np"
   ]
  },
  {
   "cell_type": "code",
   "execution_count": 10,
   "metadata": {},
   "outputs": [
    {
     "name": "stdout",
     "output_type": "stream",
     "text": [
      "('cut',)\n"
     ]
    },
    {
     "data": {
      "application/vnd.jupyter.widget-view+json": {
       "model_id": "49f334b9c5584ca0844f3d2362585412",
       "version_major": 2,
       "version_minor": 0
      },
      "text/plain": [
       "WebGuiWidget(value={'ngsolve_version': '6.2.2103-72-g646b7caba', 'mesh_dim': 2, 'order2d': 2, 'order3d': 2, 'd…"
      ]
     },
     "metadata": {},
     "output_type": "display_data"
    },
    {
     "data": {
      "text/plain": [
       "BaseWebGuiScene"
      ]
     },
     "execution_count": 10,
     "metadata": {},
     "output_type": "execute_result"
    }
   ],
   "source": [
    "# Complex\n",
    "from read_gmesh import ReadGmsh\n",
    "mesh = ReadGmsh(\"mesh/complex.msh\")\n",
    "from ngsolve import Mesh\n",
    "mesh = Mesh(mesh)\n",
    "\n",
    "eps = 1e-6\n",
    "for e in mesh.Elements(BND):\n",
    "    p0 = mesh[e.vertices[0]].point\n",
    "    p1 = mesh[e.vertices[1]].point\n",
    "    if abs(p0[0]-0)<eps and abs(p1[0]-0)< eps:\n",
    "        mesh.ngmesh.SetBCName(e.index, \"left\")\n",
    "    elif abs(p0[0]-1)<eps and abs(p1[0]-1)< eps:\n",
    "        mesh.ngmesh.SetBCName(e.index, \"right\")\n",
    "    elif abs(p0[1]-1)<eps and abs(p1[1]-1)< eps:\n",
    "        mesh.ngmesh.SetBCName(e.index, \"top\")\n",
    "    elif abs(p0[1]-0)<eps and abs(p1[1]-0)< eps:\n",
    "        mesh.ngmesh.SetBCName(e.index, \"bottom\")\n",
    "    elif (abs((p0[0]-0.15)/(0.15-0.4)-(p0[1]-0.9167)/(0.9167-0.5))<eps and \n",
    "          abs((p1[0]-0.15)/(0.15-0.4)-(p1[1]-0.9167)/(0.9167-0.5))<eps): \n",
    "        mesh.ngmesh.SetBCName(e.index, \"barr\")\n",
    "    elif (abs((p0[0]-0.65)/(0.65-0.849723)-(p0[1]-0.8333)/(0.8333-0.167625))<10*eps and \n",
    "          abs((p1[0]-0.65)/(0.65-0.849723)-(p1[1]-0.8333)/(0.8333-0.167625))<10*eps): \n",
    "        mesh.ngmesh.SetBCName(e.index, \"barr\")\n",
    "    else:\n",
    "        mesh.ngmesh.SetBCName(e.index, \"frac\")\n",
    "\n",
    "# barrier cfs\n",
    "# mesh.Refine()\n",
    "from netgen.meshing import Element0D\n",
    "\n",
    "pts=[[0.185, 0.856], [0.850,0.168], [0.815, 0.283], [0.662, 0.793]]\n",
    "# 0D nodes\n",
    "for k in range(4):\n",
    "    for i, p in enumerate(mesh.ngmesh.Points()):\n",
    "        if abs(p.p[0]-pts[k][0])+abs(p.p[1]-pts[k][1]) < 1e-2:\n",
    "            mesh.ngmesh.Add(Element0D(i+1, index=1))\n",
    "mesh.ngmesh.SetCD2Name(1, \"cut\") # barrier/fracture cuts\n",
    "\n",
    "\n",
    "mesh = Mesh(mesh.ngmesh)\n",
    "print(mesh.GetBBoundaries())\n",
    "\n",
    "gfu = GridFunction(H1(mesh))\n",
    "gfu.Set(1,definedon=mesh.Boundaries(\"frac\"))\n",
    "gfv = GridFunction(H1(mesh))\n",
    "gfv.Set(-1,definedon=mesh.Boundaries(\"barr\"))\n",
    "gfw = GridFunction(H1(mesh))\n",
    "gfw.Set(1.1, definedon=mesh.BBoundaries(\"cut\"))\n",
    "Draw(gfv+gfu+gfw, mesh,\"ff\")"
   ]
  },
  {
   "cell_type": "code",
   "execution_count": 13,
   "metadata": {
    "scrolled": false
   },
   "outputs": [
    {
     "data": {
      "application/vnd.jupyter.widget-view+json": {
       "model_id": "7edacefd4b764f51af0722042582341a",
       "version_major": 2,
       "version_minor": 0
      },
      "text/plain": [
       "WebGuiWidget(value={'ngsolve_version': '6.2.2103-72-g646b7caba', 'mesh_dim': 2, 'order2d': 2, 'order3d': 2, 'd…"
      ]
     },
     "metadata": {},
     "output_type": "display_data"
    },
    {
     "name": "stdout",
     "output_type": "stream",
     "text": [
      "Total:  7518  Global:  2190 V:  3996 W:  1332 M:  1998 Vf:  124 Mf:  68\n"
     ]
    },
    {
     "data": {
      "image/png": "[encoded data removed]",
      "text/plain": [
       "<Figure size 432x288 with 1 Axes>"
      ]
     },
     "metadata": {
      "needs_background": "light"
     },
     "output_type": "display_data"
    }
   ],
   "source": [
    "# each fracture is represented by a mlset with 2 level set functions (line+circle)\n",
    "level_sets_p1 = tuple(tuple(GridFunction(H1(mesh, order=1)) for i in range(2)) for j in range(2))\n",
    "eps0 = 1e-3\n",
    "frac0 = np.array([[1, 0.15, 0.9167, 0.4, 0.5], \n",
    "         [2, 0.65,0.8333-eps0, 0.849723,0.167625-eps0]])\n",
    "# interface indicator/interface elements/tangential directions\n",
    "nfs = 2\n",
    "lset_ifs = [None for j in range(nfs)]\n",
    "lset_elems = [None for j in range(nfs)]\n",
    "ts = [None for j in range(nfs)]\n",
    "ns = [None for j in range(nfs)]\n",
    "\n",
    "# all fractures\n",
    "for i, lset_p1 in enumerate(level_sets_p1):\n",
    "    x0, y0, x1, y1 = frac0[i][1], frac0[i][2],frac0[i][3],frac0[i][4]\n",
    "    l1 = (x-x0)/(x1-x0)-(y-y0)/(y1-y0)\n",
    "    len1 = sqrt((x1-x0)**2+(y1-y0)**2)\n",
    "    xmid, ymid = 0.5*(x0+x1), 0.5*(y0+y1)\n",
    "    r1 = sqrt((x-xmid)**2+(y-ymid)**2)-0.5*len1\n",
    "    InterpolateToP1(l1, lset_p1[0]) # line segment\n",
    "    InterpolateToP1(r1, lset_p1[1]) # circ\n",
    "    mlci = MultiLevelsetCutInfo(mesh, lset_p1)\n",
    "    frac = DomainTypeArray((IF, NEG))\n",
    "    lset_ifs[i] = {\"levelset\": lset_p1, \"domain_type\": frac, \"subdivlvl\" : 0}\n",
    "    lset_elems[i] = mlci.GetElementsWithContribution(frac)\n",
    "    n1 = 1.0/grad(lset_p1[0]).Norm() * grad(lset_p1[0])\n",
    "    ts[i] = CoefficientFunction((-n1[1], n1[0]))\n",
    "    ns[i] = n1\n",
    "    if i ==0:\n",
    "        bitarray = BitArrayCF(lset_elems[i])\n",
    "    else:\n",
    "        bitarray += BitArrayCF(lset_elems[i])\n",
    "\n",
    "# draw the interface elements for the fracture\n",
    "# Draw(bitarray, mesh, max=1)\n",
    "\n",
    "# hybrid-mixed solver: GOOD\n",
    "order = 0\n",
    "frac = \"frac\"\n",
    "V = HDiv(mesh, order=order, RT=True, discontinuous=True)\n",
    "W = L2(mesh, order=order)\n",
    "M = FacetFESpace(mesh, order=order, dirichlet=\"left|right\")\n",
    "Vf = Compress(SurfaceL2(mesh, order=order+1, definedon=mesh.Boundaries(frac)))\n",
    "Mf = Compress(H1(mesh, order=1, definedon=mesh.Boundaries(frac)))\n",
    "\n",
    "fes = V*W*M*Vf*Mf\n",
    "(u, p, phat, uf, pbar), (v, q, qhat, vf, qbar) = fes.TnT()\n",
    "\n",
    "eps = 1e-4\n",
    "K0, K1, K2 = 1, 1e4, 1e-4\n",
    "\n",
    "condense=True\n",
    "a = BilinearForm(fes, condense=condense)\n",
    "h = specialcf.mesh_size\n",
    "n = specialcf.normal(2)\n",
    "t = specialcf.tangential(2)\n",
    "# subdomain 1\n",
    "a += (1/K0*u*v-p*div(v)-q*div(u))*dx\n",
    "a += (1/eps/K1*uf.Trace()*vf.Trace()-phat.Trace()*grad(vf).Trace()*t-qhat.Trace()*grad(uf).Trace()*t\n",
    "     )*ds(\"frac\")\n",
    "a += (v*n*phat+u*n*qhat)*dx(element_boundary=True)\n",
    "gfn = GridFunction(Compress(SurfaceL2(mesh, order=1, definedon=mesh.Boundaries(frac))))\n",
    "count = 0\n",
    "for e in mesh.Elements(BND):\n",
    "    if e.mat==\"frac\":\n",
    "        if e.vertices[0].nr > e.vertices[1].nr:\n",
    "            gfn.vec[2*count+1] = -1\n",
    "        else:\n",
    "            gfn.vec[2*count+1] = 1 \n",
    "        count += 1    \n",
    "a += (pbar*vf*gfn+uf*qbar*gfn)*ds(element_boundary=True, definedon=\"frac\")\n",
    "# Hack a Neumann BC\n",
    "gfX = GridFunction(H1(mesh))\n",
    "gfX.Set(1, definedon=mesh.BBoundaries(\"cut\"))\n",
    "a += gfX*1e8*(uf*vf)*ds(element_boundary=True, definedon=\"frac\")\n",
    "for i in range(nfs):\n",
    "    a += SymbolicBFI(levelset_domain = lset_ifs[i], \n",
    "                 form = eps/K2 * u*ns[i] * v*ns[i],\n",
    "                definedonelements=lset_elems[i])\n",
    "\n",
    "\n",
    "########### TODO\n",
    "\n",
    "f = LinearForm(fes)\n",
    "\n",
    "gfu = GridFunction(fes)\n",
    "\n",
    "a.Assemble()\n",
    "f.Assemble()\n",
    "\n",
    "# top dirichlet data\n",
    "gfu.components[2].Set(4-3*x, definedon=mesh.Boundaries(\"left|right\"))\n",
    "\n",
    "f.vec.data -= a.mat*gfu.vec\n",
    "if condense==True:\n",
    "    f.vec.data += a.harmonic_extension_trans * f.vec\n",
    "gfu.vec.data += a.mat.Inverse(fes.FreeDofs(condense), inverse=\"umfpack\")*f.vec\n",
    "if condense==True:\n",
    "    gfu.vec.data += a.harmonic_extension * gfu.vec \n",
    "    gfu.vec.data += a.inner_solve * f.vec\n",
    "\n",
    "# Local postprocessing\n",
    "V2 = L2(mesh, order=1, all_dofs_together=False)\n",
    "ph = GridFunction(V2)\n",
    "\n",
    "a2 = BilinearForm(V2)\n",
    "f2 = LinearForm(V2)\n",
    "\n",
    "p2, q2 = V2.TnT()\n",
    "a2 += grad(p2)*grad(q2)*dx\n",
    "a2.Assemble()\n",
    "f2 += -1/K0*gfu.components[0]*grad(q2)*dx\n",
    "f2.Assemble()\n",
    "\n",
    "V2.FreeDofs()[:mesh.ne]=False\n",
    "ph.vec[:mesh.ne].data=gfu.components[1].vec\n",
    "ph.vec.data += a2.mat.Inverse(V2.FreeDofs())*f2.vec\n",
    "    \n",
    "Draw(ph, mesh, \"soln\")\n",
    "\n",
    "import matplotlib.pyplot as plt\n",
    "\n",
    "xx = np.linspace(0, 1, 101)\n",
    "pre = np.array([ph(mesh(xx0,0.9+(xx0-1)*0.4)) for xx0 in xx])\n",
    "plt.plot(xx,pre,'r')\n",
    "\n",
    "ref = np.loadtxt('data/REF_0p50p9LR.csv',comments='#',delimiter=',',skiprows=1)\n",
    "plt.plot(ref.T[3], ref.T[0], \"k--\")\n",
    "print(\"Total: \", sum(fes.FreeDofs()), \" Global: \", sum(fes.FreeDofs(True)), \n",
    "     \"V: \", sum(V.FreeDofs()), \"W: \", sum(W.FreeDofs()), \"M: \", sum(M.FreeDofs()), \n",
    "     \"Vf: \", sum(Vf.FreeDofs(True)), \"Mf: \", sum(Mf.FreeDofs(True)))\n"
   ]
  },
  {
   "cell_type": "code",
   "execution_count": 14,
   "metadata": {},
   "outputs": [
    {
     "data": {
      "application/vnd.jupyter.widget-view+json": {
       "model_id": "2d0e9f889209438ab8cc1e3f95912d08",
       "version_major": 2,
       "version_minor": 0
      },
      "text/plain": [
       "WebGuiWidget(value={'ngsolve_version': '6.2.2103-72-g646b7caba', 'mesh_dim': 2, 'order2d': 2, 'order3d': 2, 'd…"
      ]
     },
     "metadata": {},
     "output_type": "display_data"
    },
    {
     "name": "stdout",
     "output_type": "stream",
     "text": [
      "Total:  7518  Global:  2190 V:  3996 W:  1332 M:  1998 Vf:  124 Mf:  68\n"
     ]
    },
    {
     "data": {
      "image/png": "[encoded data removed]",
      "text/plain": [
       "<Figure size 432x288 with 1 Axes>"
      ]
     },
     "metadata": {
      "needs_background": "light"
     },
     "output_type": "display_data"
    }
   ],
   "source": [
    "# each fracture is represented by a mlset with 2 level set functions (line+circle)\n",
    "level_sets_p1 = tuple(tuple(GridFunction(H1(mesh, order=1)) for i in range(2)) for j in range(2))\n",
    "eps0 = 1e-3\n",
    "frac0 = np.array([[1, 0.15, 0.9167, 0.4, 0.5], \n",
    "         [2, 0.65,0.8333-eps0, 0.849723,0.167625-eps0]])\n",
    "# interface indicator/interface elements/tangential directions\n",
    "nfs = 2\n",
    "lset_ifs = [None for j in range(nfs)]\n",
    "lset_elems = [None for j in range(nfs)]\n",
    "ts = [None for j in range(nfs)]\n",
    "ns = [None for j in range(nfs)]\n",
    "\n",
    "# all fractures\n",
    "for i, lset_p1 in enumerate(level_sets_p1):\n",
    "    x0, y0, x1, y1 = frac0[i][1], frac0[i][2],frac0[i][3],frac0[i][4]\n",
    "    l1 = (x-x0)/(x1-x0)-(y-y0)/(y1-y0)\n",
    "    len1 = sqrt((x1-x0)**2+(y1-y0)**2)\n",
    "    xmid, ymid = 0.5*(x0+x1), 0.5*(y0+y1)\n",
    "    r1 = sqrt((x-xmid)**2+(y-ymid)**2)-0.5*len1\n",
    "    InterpolateToP1(l1, lset_p1[0]) # line segment\n",
    "    InterpolateToP1(r1, lset_p1[1]) # circ\n",
    "    mlci = MultiLevelsetCutInfo(mesh, lset_p1)\n",
    "    frac = DomainTypeArray((IF, NEG))\n",
    "    lset_ifs[i] = {\"levelset\": lset_p1, \"domain_type\": frac, \"subdivlvl\" : 0}\n",
    "    lset_elems[i] = mlci.GetElementsWithContribution(frac)\n",
    "    n1 = 1.0/grad(lset_p1[0]).Norm() * grad(lset_p1[0])\n",
    "    ts[i] = CoefficientFunction((-n1[1], n1[0]))\n",
    "    ns[i] = n1\n",
    "    if i ==0:\n",
    "        bitarray = BitArrayCF(lset_elems[i])\n",
    "    else:\n",
    "        bitarray += BitArrayCF(lset_elems[i])\n",
    "\n",
    "# draw the interface elements for the fracture\n",
    "# Draw(bitarray, mesh, max=1)\n",
    "\n",
    "# hybrid-mixed solver: GOOD\n",
    "order = 0\n",
    "frac = \"frac\"\n",
    "V = HDiv(mesh, order=order, RT=True, discontinuous=True)\n",
    "W = L2(mesh, order=order)\n",
    "M = FacetFESpace(mesh, order=order, dirichlet=\"top|bottom\")\n",
    "Vf = Compress(SurfaceL2(mesh, order=order+1, definedon=mesh.Boundaries(frac)))\n",
    "Mf = Compress(H1(mesh, order=1, definedon=mesh.Boundaries(frac)))\n",
    "\n",
    "fes = V*W*M*Vf*Mf\n",
    "(u, p, phat, uf, pbar), (v, q, qhat, vf, qbar) = fes.TnT()\n",
    "\n",
    "eps = 1e-4\n",
    "K0, K1, K2 = 1, 1e4, 1e-4\n",
    "\n",
    "condense=True\n",
    "a = BilinearForm(fes, condense=condense)\n",
    "h = specialcf.mesh_size\n",
    "n = specialcf.normal(2)\n",
    "t = specialcf.tangential(2)\n",
    "# subdomain 1\n",
    "a += (1/K0*u*v-p*div(v)-q*div(u))*dx\n",
    "a += (1/eps/K1*uf.Trace()*vf.Trace()-phat.Trace()*grad(vf).Trace()*t-qhat.Trace()*grad(uf).Trace()*t\n",
    "     )*ds(\"frac\")\n",
    "a += (v*n*phat+u*n*qhat)*dx(element_boundary=True)\n",
    "gfn = GridFunction(Compress(SurfaceL2(mesh, order=1, definedon=mesh.Boundaries(frac))))\n",
    "count = 0\n",
    "for e in mesh.Elements(BND):\n",
    "    if e.mat==\"frac\":\n",
    "        if e.vertices[0].nr > e.vertices[1].nr:\n",
    "            gfn.vec[2*count+1] = -1\n",
    "        else:\n",
    "            gfn.vec[2*count+1] = 1 \n",
    "        count += 1    \n",
    "a += (pbar*vf*gfn+uf*qbar*gfn)*ds(element_boundary=True, definedon=\"frac\")\n",
    "# Hack a Neumann BC\n",
    "gfX = GridFunction(H1(mesh))\n",
    "gfX.Set(1, definedon=mesh.BBoundaries(\"cut\"))\n",
    "a += gfX*1e8*(uf*vf)*ds(element_boundary=True, definedon=\"frac\")\n",
    "for i in range(nfs):\n",
    "    a += SymbolicBFI(levelset_domain = lset_ifs[i], \n",
    "                 form = eps/K2 * u*ns[i] * v*ns[i],\n",
    "                definedonelements=lset_elems[i])\n",
    "\n",
    "\n",
    "########### TODO\n",
    "\n",
    "f = LinearForm(fes)\n",
    "\n",
    "gfu = GridFunction(fes)\n",
    "\n",
    "a.Assemble()\n",
    "f.Assemble()\n",
    "\n",
    "# top dirichlet data\n",
    "gfu.components[2].Set(1+3*y, definedon=mesh.Boundaries(\"top|bottom\"))\n",
    "\n",
    "f.vec.data -= a.mat*gfu.vec\n",
    "if condense==True:\n",
    "    f.vec.data += a.harmonic_extension_trans * f.vec\n",
    "gfu.vec.data += a.mat.Inverse(fes.FreeDofs(condense), inverse=\"umfpack\")*f.vec\n",
    "if condense==True:\n",
    "    gfu.vec.data += a.harmonic_extension * gfu.vec \n",
    "    gfu.vec.data += a.inner_solve * f.vec\n",
    "\n",
    "# Local postprocessing\n",
    "V2 = L2(mesh, order=1, all_dofs_together=False)\n",
    "ph = GridFunction(V2)\n",
    "\n",
    "a2 = BilinearForm(V2)\n",
    "f2 = LinearForm(V2)\n",
    "\n",
    "p2, q2 = V2.TnT()\n",
    "a2 += grad(p2)*grad(q2)*dx\n",
    "a2.Assemble()\n",
    "f2 += -K0*gfu.components[0]*grad(q2)*dx\n",
    "f2.Assemble()\n",
    "\n",
    "V2.FreeDofs()[:mesh.ne]=False\n",
    "ph.vec[:mesh.ne].data=gfu.components[1].vec\n",
    "ph.vec.data += a2.mat.Inverse(V2.FreeDofs())*f2.vec\n",
    "    \n",
    "Draw(ph, mesh, \"soln\")\n",
    "\n",
    "import matplotlib.pyplot as plt\n",
    "\n",
    "xx = np.linspace(0, 1, 101)\n",
    "pre = np.array([ph(mesh(xx0,0.9+(xx0-1)*0.4)) for xx0 in xx])\n",
    "plt.plot(xx,pre,'r')\n",
    "\n",
    "ref = np.loadtxt('data/REF_0p50p9.csv',comments='#',delimiter=',',skiprows=1)\n",
    "plt.plot(ref.T[3], ref.T[0], \"k--\")\n",
    "print(\"Total: \", sum(fes.FreeDofs()), \" Global: \", sum(fes.FreeDofs(True)), \n",
    "     \"V: \", sum(V.FreeDofs()), \"W: \", sum(W.FreeDofs()), \"M: \", sum(M.FreeDofs()), \n",
    "     \"Vf: \", sum(Vf.FreeDofs(True)), \"Mf: \", sum(Mf.FreeDofs(True)))\n"
   ]
  },
  {
   "cell_type": "code",
   "execution_count": null,
   "metadata": {},
   "outputs": [],
   "source": []
  }
 ],
 "metadata": {
  "kernelspec": {
   "display_name": "Python 3",
   "language": "python",
   "name": "python3"
  },
  "language_info": {
   "codemirror_mode": {
    "name": "ipython",
    "version": 3
   },
   "file_extension": ".py",
   "mimetype": "text/x-python",
   "name": "python",
   "nbconvert_exporter": "python",
   "pygments_lexer": "ipython3",
   "version": "3.8.10"
  }
 },
 "nbformat": 4,
 "nbformat_minor": 4
}
