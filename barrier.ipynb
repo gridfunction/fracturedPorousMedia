{
 "cells": [
  {
   "cell_type": "code",
   "execution_count": 1,
   "metadata": {},
   "outputs": [],
   "source": [
    "# Basic NGSolve things\n",
    "from netgen.geom2d import SplineGeometry\n",
    "from ngsolve import *\n",
    "\n",
    "# ngsxfem and the mlset convenience layer \n",
    "from xfem import *\n",
    "from xfem.mlset import *\n",
    "\n",
    "import matplotlib.pyplot as plt\n",
    "import numpy as np"
   ]
  },
  {
   "cell_type": "markdown",
   "metadata": {},
   "source": [
    "## 1) Mixed"
   ]
  },
  {
   "cell_type": "code",
   "execution_count": 4,
   "metadata": {},
   "outputs": [
    {
     "data": {
      "application/vnd.jupyter.widget-view+json": {
       "model_id": "c4dfb32adcfa4be2af0b526d63d37d13",
       "version_major": 2,
       "version_minor": 0
      },
      "text/plain": [
       "WebGuiWidget(value={'ngsolve_version': '6.2.2103-72-g646b7caba', 'mesh_dim': 2, 'order2d': 2, 'order3d': 2, 'd…"
      ]
     },
     "metadata": {},
     "output_type": "display_data"
    },
    {
     "data": {
      "application/vnd.jupyter.widget-view+json": {
       "model_id": "684346c3785944d899281dc79dffc274",
       "version_major": 2,
       "version_minor": 0
      },
      "text/plain": [
       "WebGuiWidget(value={'ngsolve_version': '6.2.2103-72-g646b7caba', 'mesh_dim': 2, 'order2d': 2, 'order3d': 2, 'd…"
      ]
     },
     "metadata": {},
     "output_type": "display_data"
    },
    {
     "data": {
      "text/plain": [
       "BaseWebGuiScene"
      ]
     },
     "execution_count": 4,
     "metadata": {},
     "output_type": "execute_result"
    }
   ],
   "source": [
    "# mixed\n",
    "geo = SplineGeometry()\n",
    "geo.AddRectangle((0, 0), (1, 1), \n",
    "                 bcs=(\"bottom\", \"right\", \"top\", \"left\"), \n",
    "                leftdomain=1, rightdomain=0)\n",
    "geo.AddCircle((0.5, 0.5), r=0.25, \n",
    "                 bc=\"frac\",\n",
    "             leftdomain=1,\n",
    "             rightdomain=1)\n",
    "\n",
    "mesh = Mesh(geo.GenerateMesh(maxh=0.025))\n",
    "\n",
    "\n",
    "\n",
    "# hybrid-mixed solver: GOOD\n",
    "order = 0\n",
    "frac = \"frac\"\n",
    "V = HDiv(mesh, order=order, RT=True, dirichlet=\"top|bottom\")\n",
    "W = L2(mesh, order=order)\n",
    "fes = V*W\n",
    "(u, p), (v, q) = fes.TnT()\n",
    "\n",
    "eps = 1\n",
    "K0, K1 = 1, 1e-2\n",
    "\n",
    "condense=False\n",
    "a = BilinearForm(fes, condense=condense)\n",
    "h = specialcf.mesh_size\n",
    "n = specialcf.normal(2)\n",
    "t = specialcf.tangential(2)\n",
    "\n",
    "a += (1/K0*u*v-p*div(v)-q*div(u))*dx\n",
    "a += eps/K1*u.Trace()*n*v.Trace()*n*ds(\"frac\")\n",
    "\n",
    "########### TODO\n",
    "\n",
    "f = LinearForm(fes)\n",
    "f += -v.Trace()*n*ds(\"left\")\n",
    "gfu = GridFunction(fes)\n",
    "\n",
    "a.Assemble()\n",
    "f.Assemble()\n",
    "\n",
    "f.vec.data -= a.mat*gfu.vec\n",
    "if condense==True:\n",
    "    f.vec.data += a.harmonic_extension_trans * f.vec\n",
    "gfu.vec.data += a.mat.Inverse(fes.FreeDofs(condense), inverse=\"pardiso\")*f.vec\n",
    "if condense==True:\n",
    "    gfu.vec.data += a.harmonic_extension * gfu.vec \n",
    "    gfu.vec.data += a.inner_solve * f.vec\n",
    "\n",
    "Draw(gfu.components[0], mesh, \"vel\")\n",
    "Draw(gfu.components[1], mesh, \"soln\")"
   ]
  },
  {
   "cell_type": "markdown",
   "metadata": {},
   "source": [
    "## 2) Hybrid-Mixed"
   ]
  },
  {
   "cell_type": "code",
   "execution_count": 5,
   "metadata": {},
   "outputs": [
    {
     "data": {
      "application/vnd.jupyter.widget-view+json": {
       "model_id": "67fd9e2bda844f5fb5212e7628020b97",
       "version_major": 2,
       "version_minor": 0
      },
      "text/plain": [
       "WebGuiWidget(value={'ngsolve_version': '6.2.2103-72-g646b7caba', 'mesh_dim': 2, 'order2d': 2, 'order3d': 2, 'd…"
      ]
     },
     "metadata": {},
     "output_type": "display_data"
    },
    {
     "data": {
      "application/vnd.jupyter.widget-view+json": {
       "model_id": "39af5e6b8e6545ac858521304c811760",
       "version_major": 2,
       "version_minor": 0
      },
      "text/plain": [
       "WebGuiWidget(value={'ngsolve_version': '6.2.2103-72-g646b7caba', 'mesh_dim': 2, 'order2d': 2, 'order3d': 2, 'd…"
      ]
     },
     "metadata": {},
     "output_type": "display_data"
    },
    {
     "data": {
      "text/plain": [
       "BaseWebGuiScene"
      ]
     },
     "execution_count": 5,
     "metadata": {},
     "output_type": "execute_result"
    }
   ],
   "source": [
    "geo = SplineGeometry()\n",
    "geo.AddRectangle((0, 0), (1, 1), \n",
    "                 bcs=(\"bottom\", \"right\", \"top\", \"left\"), \n",
    "                leftdomain=1, rightdomain=0)\n",
    "geo.AddCircle((0.5, 0.5), r=0.25, \n",
    "                 bc=\"frac\",\n",
    "             leftdomain=1,\n",
    "             rightdomain=1)\n",
    "\n",
    "mesh = Mesh(geo.GenerateMesh(maxh=0.025))\n",
    "\n",
    "### level set info\n",
    "phi = sqrt((x-0.5)**2+(y-0.5)**2)-0.25\n",
    "lsetp1 = GridFunction(H1(mesh,order=1))\n",
    "InterpolateToP1(phi,lsetp1)\n",
    "ci = CutInfo(mesh, lsetp1)\n",
    "lset_if  = { \"levelset\" : lsetp1, \"domain_type\" : IF , \"subdivlvl\" : 0}\n",
    "lset_elem = ci.GetElementsOfType(IF)\n",
    "# Draw(BitArrayCF(lset_elem), mesh)\n",
    "\n",
    "\n",
    "\n",
    "# hybrid-mixed solver: GOOD\n",
    "order = 0\n",
    "frac = \"frac\"\n",
    "V = HDiv(mesh, order=order, RT=True, discontinuous=True)\n",
    "W = L2(mesh, order=order)\n",
    "M = FacetFESpace(mesh, order=order, dirichlet=\"left|right\")\n",
    "fes = V*W*M\n",
    "(u, p, phat), (v, q, qhat) = fes.TnT()\n",
    "\n",
    "eps = 1\n",
    "K0, K1 = 1, 1e-2\n",
    "\n",
    "condense=True\n",
    "a = BilinearForm(fes, condense=condense)\n",
    "h = specialcf.mesh_size\n",
    "n = specialcf.normal(2)\n",
    "t = specialcf.tangential(2)\n",
    "\n",
    "a += (1/K0*u*v-p*div(v)-q*div(u))*dx\n",
    "# only evalued on one side\n",
    "# a += eps/K1*u.Trace()*n*v.Trace()*n*ds(\"frac\")\n",
    "\n",
    "# level set contribution\n",
    "n0  = 1.0/grad(lsetp1).Norm() * grad(lsetp1)\n",
    "a += SymbolicBFI(levelset_domain = lset_if, \n",
    "                 form = eps/K1 * u*n0 * v*n0,\n",
    "                definedonelements=lset_elem)\n",
    "# a hacker\n",
    "# gf0 = GridFunction(FacetFESpace(mesh))\n",
    "# gf0.Set(1, definedon=mesh.Boundaries(\"frac\"))\n",
    "# a += gf0*eps/K1 * u*n * v*n*dx(element_boundary=True, definedonelements=lset_elem)\n",
    "\n",
    "\n",
    "a += (phat*v*n+qhat*u*n)*dx(element_boundary=True)\n",
    "\n",
    "########### TODO\n",
    "\n",
    "f = LinearForm(fes)\n",
    "# f += -v.Trace()*n*ds(\"left\")\n",
    "gfu = GridFunction(fes)\n",
    "\n",
    "a.Assemble()\n",
    "f.Assemble()\n",
    "\n",
    "gfu.components[2].Set(1, definedon=mesh.Boundaries(\"left\"))\n",
    "f.vec.data -= a.mat*gfu.vec\n",
    "if condense==True:\n",
    "    f.vec.data += a.harmonic_extension_trans * f.vec\n",
    "gfu.vec.data += a.mat.Inverse(fes.FreeDofs(condense), inverse=\"pardiso\")*f.vec\n",
    "if condense==True:\n",
    "    gfu.vec.data += a.harmonic_extension * gfu.vec \n",
    "    gfu.vec.data += a.inner_solve * f.vec\n",
    "\n",
    "Draw(gfu.components[0], mesh, \"vel\")\n",
    "Draw(gfu.components[1], mesh, \"soln\")"
   ]
  },
  {
   "cell_type": "code",
   "execution_count": null,
   "metadata": {},
   "outputs": [],
   "source": []
  }
 ],
 "metadata": {
  "kernelspec": {
   "display_name": "Python 3",
   "language": "python",
   "name": "python3"
  },
  "language_info": {
   "codemirror_mode": {
    "name": "ipython",
    "version": 3
   },
   "file_extension": ".py",
   "mimetype": "text/x-python",
   "name": "python",
   "nbconvert_exporter": "python",
   "pygments_lexer": "ipython3",
   "version": "3.8.10"
  }
 },
 "nbformat": 4,
 "nbformat_minor": 4
}
