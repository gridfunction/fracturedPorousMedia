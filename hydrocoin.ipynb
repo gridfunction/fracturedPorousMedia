{
 "cells": [
  {
   "cell_type": "code",
   "execution_count": 1,
   "metadata": {},
   "outputs": [],
   "source": [
    "# Basic NGSolve things\n",
    "from netgen.geom2d import SplineGeometry\n",
    "from ngsolve import *\n",
    "\n",
    "# ngsxfem and the mlset convenience layer \n",
    "from xfem import *\n",
    "from xfem.mlset import *\n",
    "\n",
    "import matplotlib.pyplot as plt\n",
    "import numpy as np"
   ]
  },
  {
   "cell_type": "code",
   "execution_count": 2,
   "metadata": {},
   "outputs": [
    {
     "data": {
      "application/vnd.jupyter.widget-view+json": {
       "model_id": "5ae64ea330de4f6facad2e45fe0c7897",
       "version_major": 2,
       "version_minor": 0
      },
      "text/plain": [
       "WebGuiWidget(value={'ngsolve_version': '6.2.2103-72-g646b7caba', 'mesh_dim': 2, 'order2d': 2, 'order3d': 2, 'd…"
      ]
     },
     "metadata": {},
     "output_type": "display_data"
    },
    {
     "name": "stdout",
     "output_type": "stream",
     "text": [
      "('', '', 'i8', 'i7', '', '', 'i4', '', 'i2', 'i10')\n"
     ]
    }
   ],
   "source": [
    "# Hydrocoin mesh\n",
    "from netgen.meshing import Element0D\n",
    "\n",
    "geo = SplineGeometry()\n",
    "pnts = [(0,150), (400,100), (800,150),(1200,100), (1600, 150), (1600, - 1000), \n",
    "       (1500, -1000), (1000, -1000), (0, -1000), (500+7500/13, -7500/13) ]\n",
    "\n",
    "p1,p2,p3,p4,p5,p6,p7,p8,p9, p10 = [geo.AppendPoint(*pnt) for pnt in pnts]\n",
    "geo.Append([\"line\",p1,p9], leftdomain=1, rightdomain=0, bc=\"left\")\n",
    "geo.Append([\"line\",p9,p8], leftdomain=1, rightdomain=0, bc=\"bottom\")\n",
    "geo.Append([\"line\",p8,p7], leftdomain=1, rightdomain=0, bc=\"bottom\")\n",
    "geo.Append([\"line\",p7,p6], leftdomain=1, rightdomain=0, bc=\"bottom\")\n",
    "geo.Append([\"line\",p6,p5], leftdomain=1, rightdomain=0, bc=\"right\")\n",
    "geo.Append([\"line\",p5,p4], leftdomain=1, rightdomain=0, bc=\"top\")\n",
    "geo.Append([\"line\",p4,p3], leftdomain=1, rightdomain=0, bc=\"top\")\n",
    "geo.Append([\"line\",p3,p2], leftdomain=1, rightdomain=0, bc=\"top\")\n",
    "geo.Append([\"line\",p2,p1], leftdomain=1, rightdomain=0, bc=\"top\")\n",
    "geo.Append([\"line\",p2,p10], leftdomain=1, rightdomain=1, bc=\"frac1\")\n",
    "geo.Append([\"line\",p4,p10], leftdomain=1, rightdomain=1, bc=\"frac2\")\n",
    "geo.Append([\"line\",p7,p10], leftdomain=1, rightdomain=1, bc=\"frac1\")\n",
    "geo.Append([\"line\",p8,p10], leftdomain=1, rightdomain=1, bc=\"frac2\")\n",
    "\n",
    "h0 = 30 # coarse mesh\n",
    "mesh = Mesh(geo.GenerateMesh(maxh=h0))\n",
    "\n",
    "# add BBND flags \n",
    "mesh.ngmesh.SetCD2Name(3,\"i8\") \n",
    "mesh.ngmesh.SetCD2Name(4,\"i7\") \n",
    "mesh.ngmesh.SetCD2Name(7,\"i4\") \n",
    "mesh.ngmesh.SetCD2Name(9,\"i2\") \n",
    "mesh.ngmesh.SetCD2Name(10,\"i10\") \n",
    "\n",
    "\n",
    "gfu = GridFunction(H1(mesh))\n",
    "gfu.Set(1,definedon=mesh.BBoundaries(\"i2|i4|i7|i8|i10\"))\n",
    "Draw(gfu)\n",
    "\n",
    "print(mesh.GetBBoundaries())"
   ]
  },
  {
   "cell_type": "markdown",
   "metadata": {},
   "source": [
    "## 1) CG: conforming"
   ]
  },
  {
   "cell_type": "code",
   "execution_count": 3,
   "metadata": {},
   "outputs": [
    {
     "data": {
      "application/vnd.jupyter.widget-view+json": {
       "model_id": "036fda442ea741ba837ec48569084660",
       "version_major": 2,
       "version_minor": 0
      },
      "text/plain": [
       "WebGuiWidget(value={'ngsolve_version': '6.2.2103-72-g646b7caba', 'mesh_dim': 2, 'order2d': 2, 'order3d': 2, 'd…"
      ]
     },
     "metadata": {},
     "output_type": "display_data"
    },
    {
     "name": "stdout",
     "output_type": "stream",
     "text": [
      "2333\n"
     ]
    },
    {
     "data": {
      "image/png": "[encoded data removed]",
      "text/plain": [
       "<Figure size 432x288 with 1 Axes>"
      ]
     },
     "metadata": {
      "needs_background": "light"
     },
     "output_type": "display_data"
    }
   ],
   "source": [
    "# CG solver: GOOD\n",
    "fes = H1(mesh, dirichlet=\"top\")\n",
    "eps1, eps2 = 5*sqrt(2), 33/sqrt(5)\n",
    "K0, K1 = 1e-8, 1e-6\n",
    "\n",
    "u,v = fes.TnT()\n",
    "a = BilinearForm(fes, symmetric=True)\n",
    "a += K0*grad(u)*grad(v)*dx\n",
    "\n",
    "# level set contribution (1)\n",
    "a += eps1*K1 * grad(u).Trace() * grad(v).Trace()*ds(\"frac1\")\n",
    "a += eps2*K1 * grad(u).Trace() * grad(v).Trace()*ds(\"frac2\")\n",
    "\n",
    "\n",
    "f = LinearForm(fes)\n",
    "gfu = GridFunction(fes)\n",
    "\n",
    "a.Assemble()\n",
    "\n",
    "# top dirichlet data\n",
    "gfu.Set(y, definedon=mesh.Boundaries(\"top\"))\n",
    "f.vec.data -= a.mat*gfu.vec\n",
    "gfu.vec.data += a.mat.Inverse(fes.FreeDofs())*f.vec\n",
    "Draw(gfu, mesh, \"soln\")\n",
    "\n",
    "import matplotlib.pyplot as plt\n",
    "\n",
    "xx = np.linspace(0, 1600, 100)\n",
    "pre = np.array([gfu(mesh(xx0,-200)) for xx0 in xx])\n",
    "plt.plot(xx,pre)\n",
    "\n",
    "ref = np.loadtxt('mfd_hydrocoin_200.csv',comments='#',delimiter=',',skiprows=1)\n",
    "plt.plot(ref.T[3], ref.T[0], \"k\")\n",
    "print(fes.ndof)"
   ]
  },
  {
   "cell_type": "markdown",
   "metadata": {},
   "source": [
    "## 2) Hybrid-Mixed: conforming"
   ]
  },
  {
   "cell_type": "code",
   "execution_count": 4,
   "metadata": {},
   "outputs": [
    {
     "data": {
      "application/vnd.jupyter.widget-view+json": {
       "model_id": "844f47514365439fad78dfa39e9bf63b",
       "version_major": 2,
       "version_minor": 0
      },
      "text/plain": [
       "WebGuiWidget(value={'ngsolve_version': '6.2.2103-72-g646b7caba', 'mesh_dim': 2, 'order2d': 2, 'order3d': 2, 'd…"
      ]
     },
     "metadata": {},
     "output_type": "display_data"
    },
    {
     "name": "stdout",
     "output_type": "stream",
     "text": [
      "Total:  24961  Global:  7029 V:  13449 W:  4483 M:  6763 Vf:  178 Mf:  88\n"
     ]
    },
    {
     "data": {
      "image/png": "[encoded data removed]",
      "text/plain": [
       "<Figure size 432x288 with 1 Axes>"
      ]
     },
     "metadata": {
      "needs_background": "light"
     },
     "output_type": "display_data"
    }
   ],
   "source": [
    "# hybrid-mixed solver: GOOD\n",
    "order = 0\n",
    "frac = \"frac1|frac2\"\n",
    "V = HDiv(mesh, order=order, RT=True, discontinuous=True)\n",
    "W = L2(mesh, order=order)\n",
    "M = FacetFESpace(mesh, order=order, dirichlet=\"top\")\n",
    "Vf = Compress(SurfaceL2(mesh, order=order+1, definedon=mesh.Boundaries(frac)))\n",
    "Mf = Compress(H1(mesh, order=1, definedon=mesh.Boundaries(frac), dirichlet_bbnd=\"i2|i4\"))\n",
    "\n",
    "fes = V*W*M*Vf*Mf\n",
    "(u, p, phat, uf, pbar), (v, q, qhat, vf, qbar) = fes.TnT()\n",
    "\n",
    "eps1, eps2 = 5*sqrt(2), 33/sqrt(5)\n",
    "K0, K1 = 1e-8, 1e-6\n",
    "\n",
    "alpha1 = 2*K1/eps1\n",
    "alpha2 = 2*K1/eps2\n",
    "\n",
    "condense=True\n",
    "a = BilinearForm(fes, condense=condense)\n",
    "h = specialcf.mesh_size\n",
    "n = specialcf.normal(2)\n",
    "t = specialcf.tangential(2)\n",
    "# subdomain 1\n",
    "a += (-1/K0*u*v+p*div(v)+q*div(u))*dx\n",
    "a += (-1/eps1/K1*uf.Trace()*vf.Trace()+phat.Trace()*grad(vf).Trace()*t+qhat.Trace()*grad(uf).Trace()*t\n",
    "     )*ds(\"frac1\")\n",
    "a += (-1/eps2/K1*uf.Trace()*vf.Trace()+phat.Trace()*grad(vf).Trace()*t+qhat.Trace()*grad(uf).Trace()*t\n",
    "     )*ds(\"frac2\")\n",
    "a += (-v*n*phat-u*n*qhat)*dx(element_boundary=True)\n",
    "gfn = GridFunction(Compress(SurfaceL2(mesh, order=1, definedon=mesh.Boundaries(frac))))\n",
    "vec0 = np.zeros(gfn.vec.size)\n",
    "count = 0\n",
    "for e in mesh.Elements(BND):\n",
    "    if e.mat==\"frac1\" or e.mat==\"frac2\":\n",
    "        if e.vertices[0].nr > e.vertices[1].nr:\n",
    "            gfn.vec[2*count+1] = -1\n",
    "        else:\n",
    "            gfn.vec[2*count+1] = 1 \n",
    "        count += 1    \n",
    "a += -(pbar*vf*gfn+uf*qbar*gfn)*ds(element_boundary=True, definedon=\"frac1|frac2\")\n",
    "\n",
    "########### TODO\n",
    "\n",
    "f = LinearForm(fes)\n",
    "\n",
    "gfu = GridFunction(fes)\n",
    "\n",
    "a.Assemble()\n",
    "f.Assemble()\n",
    "# print(f.vec)\n",
    "# stop\n",
    "\n",
    "# top dirichlet data\n",
    "gfu.components[2].Set(y, definedon=mesh.Boundaries(\"top\"))\n",
    "gfu.components[4].Set(y, definedon=mesh.BBoundaries(\"i2|i4\"))\n",
    "\n",
    "f.vec.data -= a.mat*gfu.vec\n",
    "if condense==True:\n",
    "    f.vec.data += a.harmonic_extension_trans * f.vec\n",
    "gfu.vec.data += a.mat.Inverse(fes.FreeDofs(condense), inverse=\"umfpack\")*f.vec\n",
    "if condense==True:\n",
    "    gfu.vec.data += a.harmonic_extension * gfu.vec \n",
    "    gfu.vec.data += a.inner_solve * f.vec\n",
    "\n",
    "# Local postprocessing\n",
    "V2 = L2(mesh, order=1, all_dofs_together=False)\n",
    "ph = GridFunction(V2)\n",
    "\n",
    "a2 = BilinearForm(V2)\n",
    "f2 = LinearForm(V2)\n",
    "\n",
    "p2, q2 = V2.TnT()\n",
    "a2 += grad(p2)*grad(q2)*dx\n",
    "a2.Assemble()\n",
    "f2 += -1/K0*gfu.components[0]*grad(q2)*dx\n",
    "f2.Assemble()\n",
    "\n",
    "V2.FreeDofs()[:mesh.ne]=False\n",
    "ph.vec[:mesh.ne].data=gfu.components[1].vec\n",
    "ph.vec.data += a2.mat.Inverse(V2.FreeDofs())*f2.vec\n",
    "    \n",
    "Draw(ph, mesh, \"soln\")\n",
    "\n",
    "\n",
    "xx = np.linspace(0, 1600, 100)\n",
    "pre = np.array([ph(mesh(xx0,-200)) for xx0 in xx])\n",
    "plt.plot(xx,pre)\n",
    "\n",
    "ref = np.loadtxt('mfd_hydrocoin_200.csv',comments='#',delimiter=',',skiprows=1)\n",
    "plt.plot(ref.T[3], ref.T[0], \"k\")\n",
    "print(\"Total: \", sum(fes.FreeDofs()), \" Global: \", sum(fes.FreeDofs(True)), \n",
    "     \"V: \", sum(V.FreeDofs()), \"W: \", sum(W.FreeDofs()), \"M: \", sum(M.FreeDofs()), \n",
    "     \"Vf: \", sum(Vf.FreeDofs(True)), \"Mf: \", sum(Mf.FreeDofs(True)))\n"
   ]
  },
  {
   "cell_type": "code",
   "execution_count": 5,
   "metadata": {},
   "outputs": [
    {
     "name": "stdout",
     "output_type": "stream",
     "text": [
      " 0.965926\n",
      " 0.965926\n",
      " 0.258818\n",
      " -0.258818\n",
      " -0.965926\n",
      " -0.965926\n",
      " -0.258818\n",
      " 0.258818\n",
      " 0.707107\n",
      " -0.707107\n",
      " -0.707107\n",
      " 0.707107\n",
      "\n",
      "\n"
     ]
    },
    {
     "data": {
      "application/vnd.jupyter.widget-view+json": {
       "model_id": "8270cba516984d70bde82a76f8f00f07",
       "version_major": 2,
       "version_minor": 0
      },
      "text/plain": [
       "WebGuiWidget(value={'ngsolve_version': '6.2.2103-72-g646b7caba', 'mesh_dim': 2, 'order2d': 1, 'order3d': 1, 'd…"
      ]
     },
     "metadata": {},
     "output_type": "display_data"
    },
    {
     "data": {
      "text/plain": [
       "BaseWebGuiScene"
      ]
     },
     "execution_count": 5,
     "metadata": {},
     "output_type": "execute_result"
    }
   ],
   "source": [
    "from netgen.geom2d import *\n",
    "from ngsolve import *\n",
    "geo = SplineGeometry()\n",
    "geo.AddCircle((0,0), 1)\n",
    "mesh = Mesh(geo.GenerateMesh(maxh=1))\n",
    "\n",
    "fes = SurfaceL2(mesh, order=1)\n",
    "u,v = fes.TnT()\n",
    "f = LinearForm(fes)\n",
    "\n",
    "t = specialcf.tangential(2)\n",
    "jac = specialcf.JacobianMatrix(2,1)[:,0]\n",
    "xref = specialcf.xref(1)\n",
    "conormal = (2*xref[0]-1)*jac\n",
    "\n",
    "from ngsolve.fem import LoggingCF\n",
    "conormal = LoggingCF (conormal)\n",
    "\n",
    "gfu = GridFunction(FacetFESpace(mesh, definedon=mesh.Boundaries(\".*\")))\n",
    "gfu.Set(t[0], definedon=mesh.Boundaries(\".*\"))\n",
    "print(gfu.vec)\n",
    "\n",
    "from ngsolve.webgui import Draw\n",
    "Draw(mesh)\n",
    "# f += conormal*t  *v * ds(\"bottom\", element_boundary=True)\n",
    "# gg = GridFunction(HDiv(mesh, order=1))\n",
    "# gg.Set(n, definedon=mesh.Boundaries(\"bottom\"))\n",
    "# from ngsolve.webgui import Draw\n",
    "# Draw(gg[0], mesh)"
   ]
  },
  {
   "cell_type": "code",
   "execution_count": null,
   "metadata": {},
   "outputs": [],
   "source": []
  }
 ],
 "metadata": {
  "kernelspec": {
   "display_name": "Python 3",
   "language": "python",
   "name": "python3"
  },
  "language_info": {
   "codemirror_mode": {
    "name": "ipython",
    "version": 3
   },
   "file_extension": ".py",
   "mimetype": "text/x-python",
   "name": "python",
   "nbconvert_exporter": "python",
   "pygments_lexer": "ipython3",
   "version": "3.8.5"
  }
 },
 "nbformat": 4,
 "nbformat_minor": 4
}
