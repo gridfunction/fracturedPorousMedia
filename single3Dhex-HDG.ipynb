{
 "cells": [
  {
   "cell_type": "code",
   "execution_count": 2,
   "metadata": {
    "scrolled": false
   },
   "outputs": [
    {
     "data": {
      "application/vnd.jupyter.widget-view+json": {
       "model_id": "c703adf481ea4749bdb6d926f12ca509",
       "version_major": 2,
       "version_minor": 0
      },
      "text/plain": [
       "WebGuiWidget(value={'gui_settings': {}, 'ngsolve_version': '6.2.2203-107-g17d84a784', 'mesh_dim': 3, 'order2d'…"
      ]
     },
     "metadata": {},
     "output_type": "display_data"
    },
    {
     "data": {
      "text/plain": [
       "[<matplotlib.lines.Line2D at 0x147c47502b00>]"
      ]
     },
     "execution_count": 2,
     "metadata": {},
     "output_type": "execute_result"
    },
    {
     "data": {
      "image/png": "[encoded data removed]",
      "text/plain": [
       "<Figure size 432x288 with 1 Axes>"
      ]
     },
     "metadata": {
      "needs_background": "light"
     },
     "output_type": "display_data"
    }
   ],
   "source": [
    "# Basic NGSolve things\n",
    "from ngsolve import *\n",
    "from ngsolve.webgui import Draw\n",
    "from ngsolve.meshes import MakeStructured3DMesh\n",
    "\n",
    "# ngsxfem and the mlset convenience layer \n",
    "from xfem import *\n",
    "from xfem.mlset import *\n",
    "\n",
    "import matplotlib.pyplot as plt\n",
    "import numpy as np\n",
    "\n",
    "# physical discretization setups\n",
    "K0 = IfPos(z-10, 1e-6, 1e-5) # matrix permeability\n",
    "epsK1 = 1e-3                 # fracture prmeability\n",
    "\n",
    "order, s, n0 = 0, 2, 20 # poly order & scaling power & mesh size\n",
    "\n",
    "# structured hex mesh of size n0 x n0 x n0 \n",
    "mesh = MakeStructured3DMesh(hexes=True, nx=n0, ny=n0, nz=n0, \n",
    "                            mapping=lambda x,y,z:(100*x, 100*y,100*z))\n",
    "\n",
    "def getPlane(p0, p1, p2):\n",
    "    t1 = p0-p1 \n",
    "    t2 = p2-p1\n",
    "    nrm = np.cross(t1/np.linalg.norm(t1), t2/np.linalg.norm(t2))\n",
    "    phi = (x-p0[0])*nrm[0]+(y-p0[1])*nrm[1]+(z-p0[2])*nrm[2]\n",
    "    return phi\n",
    "\n",
    "# use one level set to reprent planer fracture\n",
    "# the plane parametrization\n",
    "phi = getPlane(np.array([100,0,20]), np.array([100,100,20]), np.array([0,0,80]))\n",
    "lsetp1 = GridFunction(H1(mesh, order=1))\n",
    "InterpolateToP1(phi, lsetp1)\n",
    "ci = CutInfo(mesh, lsetp1)\n",
    "Gamma_c  = { \"levelset\" : lsetp1, \"domain_type\" : IF}\n",
    "# cells cut through fracture\n",
    "Th_c = ci.GetElementsOfType(IF) \n",
    "# fracture normal direction\n",
    "nf  = 1.0/grad(lsetp1).Norm() * grad(lsetp1)\n",
    "\n",
    "# HDG FE-Spaces\n",
    "V = VectorL2(mesh, order=order)\n",
    "W = L2(mesh, order=order, all_dofs_together=False)\n",
    "M = FacetFESpace(mesh, order=order)\n",
    "fes = V*V*W*M\n",
    "\n",
    "# Assign dirichlet DOFs for M\n",
    "for el in fes.Elements(BND):\n",
    "    if el.mat ==\"back\": # x=0\n",
    "        # find z-coordinate of barycenter\n",
    "        z0 = (mesh[el.vertices[0]].point[2]+mesh[el.vertices[1]].point[2]+mesh[el.vertices[2]].point[2])/3\n",
    "        if z0 > 90:\n",
    "            for dof in el.dofs:\n",
    "                fes.FreeDofs()[dof] = False\n",
    "                fes.FreeDofs(True)[dof] = False\n",
    "    if el.mat ==\"left\": # x=0\n",
    "        # find z-coordinate of barycenter\n",
    "        z0 = (mesh[el.vertices[0]].point[2]+mesh[el.vertices[1]].point[2]+mesh[el.vertices[2]].point[2])/3\n",
    "        if z0 < 10:\n",
    "            for dof in el.dofs:\n",
    "                fes.FreeDofs()[dof] = False\n",
    "                fes.FreeDofs(True)[dof] = False\n",
    "\n",
    "# test/trial functions\n",
    "(u, ut,  p, phat), (v, vt, q, qhat) = fes.TnT()\n",
    "\n",
    "# mesh size & normal direction\n",
    "h = specialcf.mesh_size\n",
    "n = specialcf.normal(3)\n",
    "\n",
    "# set-up bilinear form\n",
    "a = BilinearForm(fes, condense=True)\n",
    "# volume contribution\n",
    "a += 1/K0*(u-ut)*vt*dx\n",
    "a += (1/K0*(ut*v)+grad(p)*v-u*grad(q))*dx\n",
    "# boundary contribution\n",
    "a += (u*n*(q-qhat)-(p-phat)*v*n)*dx(element_boundary=True)\n",
    "# stabilization on regular cells\n",
    "a += K0*(p-phat)*(q-qhat)*dx(element_boundary=True, \n",
    "                            definedonelements=~Th_c)\n",
    "# stabilization on fractured cells\n",
    "# characteristic length is 100\n",
    "a += K0*(h/100)**(-s)*(p-phat)*(q-qhat)*dx(element_boundary=True, \n",
    "                            definedonelements=Th_c)\n",
    "\n",
    "# surface integral on the 2D fractures\n",
    "a += SymbolicBFI(levelset_domain = Gamma_c, \n",
    "                 form = - epsK1/K0**2 * (ut-ut*nf*nf) * (vt-vt*nf*nf),\n",
    "                definedonelements=Th_c)\n",
    "\n",
    "gfu = GridFunction(fes)\n",
    "# impose dirichlet bc\n",
    "gfu.components[3].Set(IfPos(z-50, 4, 1), definedon=mesh.Boundaries(\"left|back\"))\n",
    "\n",
    "# Local postprocessing\n",
    "V2 = L2(mesh, order=order+1, all_dofs_together=False)\n",
    "V2.FreeDofs()[:mesh.ne]=False\n",
    "ph = GridFunction(V2)\n",
    "\n",
    "a2 = BilinearForm(V2)\n",
    "f2 = LinearForm(V2)\n",
    "\n",
    "p2, q2 = V2.TnT()\n",
    "a2 += grad(p2)*grad(q2)*dx\n",
    "f2 += -gfu.components[1]/K0*grad(q2)*dx\n",
    "\n",
    "with TaskManager():\n",
    "    # matrix assembly\n",
    "    a.Assemble()\n",
    "    rhs = gfu.vec.CreateVector()\n",
    "    rhs.data = - a.mat*gfu.vec\n",
    "    # static condensation\n",
    "    rhs.data += a.harmonic_extension_trans * rhs\n",
    "    # global linear system solve for M: use sparse cholesky direct solver\n",
    "    gfu.vec.data += a.mat.Inverse(fes.FreeDofs(True), inverse=\"sparsecholesky\")*rhs\n",
    "    # local solve\n",
    "    gfu.vec.data += a.harmonic_extension * gfu.vec \n",
    "    gfu.vec.data += a.inner_solve * rhs\n",
    "    \n",
    "    # postprocessing\n",
    "    a2.Assemble()\n",
    "    f2.Assemble()\n",
    "    # copy cell averge \n",
    "    ph.vec[:mesh.ne].data=gfu.components[2].vec[:mesh.ne]\n",
    "    # (local) solve for slope\n",
    "    ph.vec.data += a2.mat.Inverse(V2.FreeDofs(), inverse=\"sparsecholesky\")*f2.vec\n",
    "    \n",
    "    # use H1-conforming FEM for web-gui visualization\n",
    "    ph_vis = GridFunction(H1(mesh, order=order+1))\n",
    "    ph_vis.Set(ph)\n",
    "    Draw(ph_vis, mesh)\n",
    "\n",
    "    \n",
    "# compare solution with reference data\n",
    "data = \"data/single/results/USTUTT/MPFA/dol_refinement_5.csv\"\n",
    "ref = np.loadtxt(data,comments='#',delimiter=',')\n",
    "\n",
    "xx = np.linspace(0, 100, 401)\n",
    "pp = np.array([ph(mesh(x, 100-x, 100-x)) for x in xx])\n",
    "plt\n",
    "plt.plot(ref.T[0], ref.T[1],'k')\n",
    "plt.plot(xx*sqrt(3), pp, \"r\")"
   ]
  },
  {
   "cell_type": "code",
   "execution_count": null,
   "metadata": {},
   "outputs": [],
   "source": []
  }
 ],
 "metadata": {
  "kernelspec": {
   "display_name": "Python 3 (ipykernel)",
   "language": "python",
   "name": "python3"
  },
  "language_info": {
   "codemirror_mode": {
    "name": "ipython",
    "version": 3
   },
   "file_extension": ".py",
   "mimetype": "text/x-python",
   "name": "python",
   "nbconvert_exporter": "python",
   "pygments_lexer": "ipython3",
   "version": "3.10.5"
  }
 },
 "nbformat": 4,
 "nbformat_minor": 4
}
